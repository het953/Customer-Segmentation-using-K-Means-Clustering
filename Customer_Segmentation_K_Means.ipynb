{
  "nbformat": 4,
  "nbformat_minor": 0,
  "metadata": {
    "colab": {
      "provenance": []
    },
    "kernelspec": {
      "name": "python3",
      "display_name": "Python 3"
    },
    "language_info": {
      "name": "python"
    }
  },
  "cells": [
    {
      "cell_type": "markdown",
      "source": [
        "# **TASK-02**"
      ],
      "metadata": {
        "id": "HMC211GYmcaS"
      }
    },
    {
      "cell_type": "markdown",
      "source": [
        "# **Mount the drive**"
      ],
      "metadata": {
        "id": "fMHVGIlimtJK"
      }
    },
    {
      "cell_type": "code",
      "source": [
        "from google.colab import drive\n",
        "drive.mount('/content/drive')"
      ],
      "metadata": {
        "id": "FgMU07dJj8R0"
      },
      "execution_count": null,
      "outputs": []
    },
    {
      "cell_type": "markdown",
      "source": [
        "# **Import libraries**"
      ],
      "metadata": {
        "id": "EDTPDuOHm0Tb"
      }
    },
    {
      "cell_type": "code",
      "source": [
        "import pandas as pd\n",
        "import numpy as np\n",
        "from sklearn.cluster import KMeans\n",
        "from sklearn.preprocessing import StandardScaler\n",
        "import matplotlib.pyplot as plt"
      ],
      "metadata": {
        "id": "1kzY11LqkLXE"
      },
      "execution_count": 2,
      "outputs": []
    },
    {
      "cell_type": "markdown",
      "source": [
        "# **Load the dataset**"
      ],
      "metadata": {
        "id": "PPyGY0xum5MI"
      }
    },
    {
      "cell_type": "code",
      "source": [
        "df = pd.read_csv('/content/drive/MyDrive/code_2/Mall_Customers.csv')"
      ],
      "metadata": {
        "id": "G6qSFjQfkiqZ"
      },
      "execution_count": 3,
      "outputs": []
    },
    {
      "cell_type": "code",
      "source": [
        "df.columns\n"
      ],
      "metadata": {
        "id": "_MJQgZ3kkxBT"
      },
      "execution_count": null,
      "outputs": []
    },
    {
      "cell_type": "markdown",
      "source": [
        "#**Drop the 'Customer ID' column as it's not relevant for clustering**"
      ],
      "metadata": {
        "id": "a5kgVCZinFyo"
      }
    },
    {
      "cell_type": "code",
      "source": [
        "df.drop('CustomerID', axis=1, inplace=True)"
      ],
      "metadata": {
        "id": "K6-O2hwgk2mf"
      },
      "execution_count": 6,
      "outputs": []
    },
    {
      "cell_type": "markdown",
      "source": [
        "# **Convert 'Gender' column into Numerical values**"
      ],
      "metadata": {
        "id": "9cLpKPmUnbMQ"
      }
    },
    {
      "cell_type": "code",
      "source": [
        "df = pd.get_dummies(df, columns=['Gender'], drop_first=True)"
      ],
      "metadata": {
        "id": "RLlGCP1_lapF"
      },
      "execution_count": 8,
      "outputs": []
    },
    {
      "cell_type": "markdown",
      "source": [
        "# **Scale the data using StandardScaler**"
      ],
      "metadata": {
        "id": "AjSSmukdnor-"
      }
    },
    {
      "cell_type": "code",
      "source": [
        "scaler = StandardScaler()\n",
        "df_scaled = scaler.fit_transform(df)"
      ],
      "metadata": {
        "id": "u2iY_zzwk-ds"
      },
      "execution_count": 9,
      "outputs": []
    },
    {
      "cell_type": "markdown",
      "source": [
        "# **Determine the optimal number of clusters using the elbow method**"
      ],
      "metadata": {
        "id": "lRv-gI2BnyI3"
      }
    },
    {
      "cell_type": "code",
      "source": [
        "inertia = []\n",
        "for i in range(1, 11):\n",
        "    kmeans = KMeans(n_clusters=i, random_state=42)\n",
        "    kmeans.fit(df_scaled)\n",
        "    inertia.append(kmeans.inertia_)\n",
        "plt.plot(range(1, 11), inertia)\n",
        "plt.xlabel('Number of Clusters')\n",
        "plt.ylabel('Inertia')\n",
        "plt.title('Elbow Method')\n",
        "plt.show()"
      ],
      "metadata": {
        "id": "BLfOBgITllTr"
      },
      "execution_count": null,
      "outputs": []
    },
    {
      "cell_type": "markdown",
      "source": [
        "# **Choose the optimal number of clusters**"
      ],
      "metadata": {
        "id": "AkuMyy6Hn501"
      }
    },
    {
      "cell_type": "code",
      "source": [
        "n_clusters = 5"
      ],
      "metadata": {
        "id": "dcZkhTfbl3y7"
      },
      "execution_count": 12,
      "outputs": []
    },
    {
      "cell_type": "markdown",
      "source": [
        "# **Perform K-means clustering**"
      ],
      "metadata": {
        "id": "1T2gXo4cn_bP"
      }
    },
    {
      "cell_type": "code",
      "source": [
        "kmeans = KMeans(n_clusters=n_clusters, random_state=42)\n",
        "kmeans.fit(df_scaled)"
      ],
      "metadata": {
        "id": "Zn17Sx-0l6gT"
      },
      "execution_count": null,
      "outputs": []
    },
    {
      "cell_type": "markdown",
      "source": [
        "# **Get the cluster labels**"
      ],
      "metadata": {
        "id": "18_xvbwIoEwY"
      }
    },
    {
      "cell_type": "code",
      "source": [
        "labels = kmeans.labels_"
      ],
      "metadata": {
        "id": "D7YHxd2kl9uR"
      },
      "execution_count": 14,
      "outputs": []
    },
    {
      "cell_type": "markdown",
      "source": [
        "# **Add the cluster labels to the original dataframe**"
      ],
      "metadata": {
        "id": "TS50KbIioLuW"
      }
    },
    {
      "cell_type": "code",
      "source": [
        "df['Cluster'] = labels"
      ],
      "metadata": {
        "id": "hChNFFK9mAuz"
      },
      "execution_count": 15,
      "outputs": []
    },
    {
      "cell_type": "markdown",
      "source": [
        "# **Analyze the clusters**"
      ],
      "metadata": {
        "id": "SMa5NI1doP4w"
      }
    },
    {
      "cell_type": "code",
      "source": [
        "print(\"Cluster sizes:\")\n",
        "print(df['Cluster'].value_counts())"
      ],
      "metadata": {
        "id": "Vo-zC3j7mD4D"
      },
      "execution_count": null,
      "outputs": []
    },
    {
      "cell_type": "markdown",
      "source": [
        "# **Calculate the mean values for each feature in each cluster**"
      ],
      "metadata": {
        "id": "pADtnxHrobd-"
      }
    },
    {
      "cell_type": "code",
      "source": [
        "cluster_means = df.groupby('Cluster').mean()"
      ],
      "metadata": {
        "id": "l20eJ7_LmG_a"
      },
      "execution_count": 17,
      "outputs": []
    },
    {
      "cell_type": "code",
      "source": [
        "print(\"Cluster means:\")\n",
        "print(cluster_means)"
      ],
      "metadata": {
        "id": "we8ecShJmKC8"
      },
      "execution_count": null,
      "outputs": []
    },
    {
      "cell_type": "markdown",
      "source": [
        "# **Visualize the clusters using a scatter plot**"
      ],
      "metadata": {
        "id": "HBKGkVGJohXe"
      }
    },
    {
      "cell_type": "code",
      "source": [
        "plt.scatter(df_scaled[:, 0], df_scaled[:, 1], c=labels)\n",
        "plt.xlabel('Feature 1')\n",
        "plt.ylabel('Feature 2')\n",
        "plt.title('Customer Segmentation')\n",
        "plt.show()"
      ],
      "metadata": {
        "id": "OUFWGtysmMJq"
      },
      "execution_count": null,
      "outputs": []
    }
  ]
}